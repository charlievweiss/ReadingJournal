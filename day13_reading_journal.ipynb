{
 "cells": [
  {
   "cell_type": "markdown",
   "metadata": {},
   "source": [
    "# Day 13 Reading Journal\n",
    "\n",
    "This journal includes review questions relating to Think Python Chapter 16.\n",
    "\n",
    "**Due: Thursday, October 20 at 12 noon**"
   ]
  },
  {
   "cell_type": "markdown",
   "metadata": {},
   "source": [
    "## Exercise 16-1.\n",
    "Write a function called `print_time` that takes a Time object and prints it in the form `hour:minute:second`.\n",
    "Hint: the format sequence `'%.2d'` prints an integer using at least two digits, including a leading zero if necessary."
   ]
  },
  {
   "cell_type": "code",
   "execution_count": 11,
   "metadata": {
    "collapsed": false
   },
   "outputs": [
    {
     "name": "stdout",
     "output_type": "stream",
     "text": [
      "11:59:03\n"
     ]
    }
   ],
   "source": [
    "class Time(object):\n",
    "    \"\"\"Represents the time of day.\n",
    "    attributes: hour, minute, second\n",
    "    \"\"\"\n",
    "    \n",
    "# add your definition of print_time\n",
    "def print_time(t):\n",
    "    print '%.2d:%.2d:%.2d' % (t.hour,t.minute,t.second)\n",
    "    \n",
    "# add some code to demonstrate that print_time works\n",
    "time = Time()\n",
    "time.hour = 11\n",
    "time.minute = 59\n",
    "time.second = 3\n",
    "print_time(time)"
   ]
  },
  {
   "cell_type": "markdown",
   "metadata": {},
   "source": []
  },
  {
   "cell_type": "markdown",
   "metadata": {},
   "source": [
    "## Exercise 16-2\n",
    "Write a boolean function called `is_after` that takes two Time objects, `t1` and `t2`, and returns `True` if `t1` follows `t2` chronologically and `False` otherwise.\n",
    "\n",
    "Challenge: don’t use an `if` statement."
   ]
  },
  {
   "cell_type": "code",
   "execution_count": 16,
   "metadata": {
    "collapsed": false
   },
   "outputs": [
    {
     "name": "stdout",
     "output_type": "stream",
     "text": [
      "False True\n"
     ]
    }
   ],
   "source": [
    "def time_to_int(t):\n",
    "    minutes = t.hour*60+t.minute\n",
    "    seconds = minutes*60+t.second\n",
    "    return seconds\n",
    "\n",
    "def is_after(t1,t2):\n",
    "    return time_to_int(t1)>time_to_int(t2)\n",
    "\n",
    "time1 = Time()\n",
    "time1.hour = 1\n",
    "time1.minute = 1\n",
    "time1.second = 1\n",
    "time2 = Time()\n",
    "time2.hour = 2\n",
    "time2.minute = 2\n",
    "time2.second = 2\n",
    "\n",
    "print is_after(time1,time2),\n",
    "print is_after(time2,time1)"
   ]
  },
  {
   "cell_type": "markdown",
   "metadata": {},
   "source": [
    "## Modifiers\n",
    "Complete the code below, such that it demonstrates:\n",
    "\n",
    "* `increment` behaving as specified\n",
    "* `increment` with incorrect behavior"
   ]
  },
  {
   "cell_type": "code",
   "execution_count": 45,
   "metadata": {
    "collapsed": false
   },
   "outputs": [
    {
     "name": "stdout",
     "output_type": "stream",
     "text": [
      "01:01:46\n",
      "01:02:3541\n"
     ]
    }
   ],
   "source": [
    "class Time(object):\n",
    "    \"\"\"Represents the time of day.\n",
    "    attributes: hour, minute, second\n",
    "    \"\"\"\n",
    "\n",
    "    def increment(time, seconds):\n",
    "        time.second += seconds\n",
    "        if time.second >= 60:\n",
    "            time.second -= 60\n",
    "            time.minute += 1\n",
    "        if time.minute >= 60:\n",
    "            time.minute -= 60\n",
    "            time.hour += 1\n",
    "\n",
    "t1 = Time() # modify this line to create a new instance of Time\n",
    "t1.hour = 1\n",
    "t1.minute = 1\n",
    "t1.second = 1\n",
    "t1.increment(45) # modify this line to increment t1 by 45 seconds\n",
    "print_time(t1) # modify this line to print the attributes of t1, to show that it has been correctly incremented\n",
    "\n",
    "t2 = Time() # modify this line to create another instance of Time\n",
    "t2.hour = 1\n",
    "t2.minute = 1\n",
    "t2.second = 1\n",
    "t2.increment(3600) # modify this line to increment t2\n",
    "print_time(t2) # modify this line to demonstrate that the previous call to increment behaved incorrectly"
   ]
  },
  {
   "cell_type": "markdown",
   "metadata": {},
   "source": [
    "## Exercise 16-3 (adapted)\n",
    "Fix `increment`, and demonstrate that has the correct behavior in the case that was a problem above.\n",
    "\n",
    "Unlike the version of this question in Think Python, you are allowed (but not required) to use loops."
   ]
  },
  {
   "cell_type": "code",
   "execution_count": 49,
   "metadata": {
    "collapsed": false
   },
   "outputs": [
    {
     "name": "stdout",
     "output_type": "stream",
     "text": [
      "02:01:01\n"
     ]
    }
   ],
   "source": [
    "class Time(object):\n",
    "    \"\"\"Represents the time of day.\n",
    "    attributes: hour, minute, second\n",
    "    \"\"\"\n",
    "    \n",
    "    def increment(time, seconds):\n",
    "        time.second += seconds\n",
    "        if seconds>=60:\n",
    "            sec = time.second\n",
    "            time.minute += sec/60\n",
    "            time.second = sec%60\n",
    "        if time.minute>=60:\n",
    "            minutes = time.minute\n",
    "            time.hour += minutes/60\n",
    "            time.minute = minutes%60\n",
    "\n",
    "t2 = Time() # modify this line to create another instance of Time\n",
    "t2.hour = 1\n",
    "t2.minute = 1\n",
    "t2.second = 1\n",
    "t2.increment(3600) # modify this line to increment t2 by the same value as in the previous question\n",
    "print_time(t2) # modify this line to demonstrate that the previous call to increment behaved correctly"
   ]
  },
  {
   "cell_type": "markdown",
   "metadata": {},
   "source": [
    "## PyGame Tutorial\n",
    "Add a link to the PyGame tutorial that you studied.\n",
    "\n",
    "Write a sentence (or more) that summarize the main points of the tutorial."
   ]
  },
  {
   "cell_type": "markdown",
   "metadata": {},
   "source": [
    "http://thepythongamebook.com/en:pygame:step005\n",
    "\n",
    "This tutorial shows how to make objects appear as though they are translating or pulsating on a screen by creating new frames."
   ]
  },
  {
   "cell_type": "markdown",
   "metadata": {},
   "source": [
    "# Quick poll\n",
    "About how long did you spend working on this Reading Journal?"
   ]
  },
  {
   "cell_type": "code",
   "execution_count": null,
   "metadata": {
    "collapsed": true
   },
   "outputs": [],
   "source": [
    "#about 45 min"
   ]
  },
  {
   "cell_type": "markdown",
   "metadata": {},
   "source": [
    " "
   ]
  }
 ],
 "metadata": {
  "anaconda-cloud": {},
  "kernelspec": {
   "display_name": "Python 2",
   "language": "python",
   "name": "python2"
  },
  "language_info": {
   "codemirror_mode": {
    "name": "ipython",
    "version": 2
   },
   "file_extension": ".py",
   "mimetype": "text/x-python",
   "name": "python",
   "nbconvert_exporter": "python",
   "pygments_lexer": "ipython2",
   "version": "2.7.6"
  }
 },
 "nbformat": 4,
 "nbformat_minor": 0
}
