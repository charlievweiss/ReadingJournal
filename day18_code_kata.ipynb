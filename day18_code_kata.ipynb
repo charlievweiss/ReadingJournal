{
 "cells": [
  {
   "cell_type": "markdown",
   "metadata": {},
   "source": [
    "# Day 18 Kata: Data Munging\n",
    "\n",
    "A [code katas](http://codekata.com) is a short exercise for practicing particular Python skills.\n",
    "\n",
    "This exercise is adapted from [Kata04](http://codekata.com/kata/kata04-data-munging/), by Dave Thomas.\n",
    "\n",
    "**Due: Monday, November 7 at 12 noon**"
   ]
  },
  {
   "cell_type": "markdown",
   "metadata": {},
   "source": [
    "### Part One: Weather Data\n",
    "\n",
    "In `./data/weather.dat` you’ll find daily weather data for Morristown, NJ for June 2002.\n",
    "Write a function that outputs the day number (column one) with the smallest temperature spread (the maximum temperature is the second column, the minimum the third column)."
   ]
  },
  {
   "cell_type": "code",
   "execution_count": 50,
   "metadata": {
    "collapsed": false
   },
   "outputs": [
    {
     "name": "stdout",
     "output_type": "stream",
     "text": [
      "14\n"
     ]
    }
   ],
   "source": [
    "def find_day_with_smallest_spread():\n",
    "    f = open('./data/weather.dat','r')\n",
    "    lst = []\n",
    "    for line in f:\n",
    "        lst += [line.split()]\n",
    "    del lst[1]\n",
    "    # lst is now list of rows\n",
    "    days = [x[0] for x in lst]\n",
    "    max_temps = [x[1] for x in lst]\n",
    "    min_temps = [x[2] for x in lst]\n",
    "    temp_diffs = ['tdiff']\n",
    "    i = 1\n",
    "    while i < len(max_temps):\n",
    "        maxt = float(max_temps[i].replace('*',''))\n",
    "        mint = float(min_temps[i].replace('*',''))\n",
    "        temp_diffs.append(maxt-mint)\n",
    "        i+=1\n",
    "    index = temp_diffs.index(min(temp_diffs))\n",
    "    return days[index]\n",
    "\n",
    "print find_day_with_smallest_spread()"
   ]
  },
  {
   "cell_type": "markdown",
   "metadata": {},
   "source": [
    "### Part Two: Soccer League Table\n",
    "The file `./data/football.dat` contains the results from the English Premier League for 2001/2.\n",
    "The columns labeled ‘F’ and ‘A’ contain the total number of goals scored for and against each team in that season (so Arsenal scored 79 goals against opponents, and had 36 goals scored against them).\n",
    "Write a function to print the name of the team with the smallest difference in ‘for’ and ‘against’ goals."
   ]
  },
  {
   "cell_type": "code",
   "execution_count": 87,
   "metadata": {
    "collapsed": false
   },
   "outputs": [
    {
     "name": "stdout",
     "output_type": "stream",
     "text": [
      "Aston_Villa\n"
     ]
    }
   ],
   "source": [
    "def find_team_with_smallest_difference():\n",
    "    f = open('./data/football.dat','r')\n",
    "    lst = []\n",
    "    for line in f:\n",
    "        lst += [line.split()]\n",
    "    i = 0\n",
    "    while i < len(lst):\n",
    "        if len(lst[i])<=1:\n",
    "            del lst[i]\n",
    "        i+=1\n",
    "    i = 1\n",
    "    while i < len(lst):\n",
    "        del lst[i][0]\n",
    "        del lst[i][6]\n",
    "        i+=1\n",
    "    names = [x[0] for x in lst]\n",
    "    for_goals = [x[5] for x in lst]\n",
    "    away_goals = [x[6] for x in lst]\n",
    "    diffs = ['diffs']\n",
    "    i = 1\n",
    "    while i<len(for_goals):\n",
    "        diffs.append(abs(float(for_goals[i])-float(away_goals[i])))\n",
    "        i+=1\n",
    "    index = diffs.index(min(diffs))\n",
    "    return names[index]\n",
    "\n",
    "print find_team_with_smallest_difference()"
   ]
  },
  {
   "cell_type": "markdown",
   "metadata": {},
   "source": [
    "### Part Three: DRY Fusion\n",
    "“In software engineering, **d**on't **r**epeat **y**ourself (DRY) is a principle of software development, aimed at reducing repetition of information of all kinds” – [Wikipedia](https://en.wikipedia.org/wiki/Don%27t_repeat_yourself).\n",
    "\n",
    "(Compare this to [copy and paste programming](https://en.wikipedia.org/wiki/Copy_and_paste_programming).)\n",
    "\n",
    "Take the two functions written previously and [factor out](https://en.wikipedia.org/wiki/Code_refactoring) as much common code as possible, leaving you with two smaller functions that each call a third function."
   ]
  },
  {
   "cell_type": "code",
   "execution_count": 96,
   "metadata": {
    "collapsed": false
   },
   "outputs": [
    {
     "name": "stdout",
     "output_type": "stream",
     "text": [
      "14\n",
      "Aston_Villa\n"
     ]
    }
   ],
   "source": [
    "def find_x_with_smallest_difference(filename,name_col,min_col,max_col):\n",
    "    f = open(filename,'r') # open file\n",
    "    lst = [] # create list for file data\n",
    "    for line in f:\n",
    "        lst += [line.split()] # put file data in lst\n",
    "    del lst[0] # delete the first line because it can be a diff length\n",
    "    i = 0\n",
    "    while i < len(lst):\n",
    "        if len(lst[i])<=1:\n",
    "            del lst[i] # delete random empty rows\n",
    "        i+=1\n",
    "    names = [x[name_col] for x in lst] # create name column\n",
    "    min_vars = [x[min_col] for x in lst] # min column\n",
    "    max_vars = [x[max_col] for x in lst] # max column\n",
    "    diffs = ['diffs'] # new column of differences\n",
    "    i = 1\n",
    "    while i<len(min_vars):\n",
    "        # fill diff column\n",
    "        maxvar = float(max_vars[i].replace('*',''))\n",
    "        minvar = float(min_vars[i].replace('*',''))\n",
    "        diffs.append(abs(maxvar-minvar))\n",
    "        i+=1\n",
    "    index = diffs.index(min(diffs)) # find index of smallest difference\n",
    "    return names[index] # print name corresponding to the difference\n",
    "\n",
    "print find_x_with_smallest_difference('./data/weather.dat',0,1,2)\n",
    "print find_x_with_smallest_difference('./data/football.dat',1,6,8)\n"
   ]
  },
  {
   "cell_type": "markdown",
   "metadata": {},
   "source": [
    "## Quick poll\n",
    "\n",
    "About how long did you spend working on this Reading Journal?"
   ]
  },
  {
   "cell_type": "markdown",
   "metadata": {},
   "source": [
    "about an hour"
   ]
  },
  {
   "cell_type": "markdown",
   "metadata": {},
   "source": [
    "## Reading Journal feedback\n",
    "\n",
    "Have any comments on this Reading Journal? Feel free to leave them below and we'll read them when you submit your journal entry. This could include suggestions to improve the exercises, topics you'd like to see covered in class next time, or other feedback.\n",
    "If you have Python questions or run into problems while completing the reading, you should post them to Piazza instead so you can get a quick response before your journal is submitted."
   ]
  },
  {
   "cell_type": "markdown",
   "metadata": {},
   "source": []
  }
 ],
 "metadata": {
  "anaconda-cloud": {},
  "kernelspec": {
   "display_name": "Python 2",
   "language": "python",
   "name": "python2"
  },
  "language_info": {
   "codemirror_mode": {
    "name": "ipython",
    "version": 2
   },
   "file_extension": ".py",
   "mimetype": "text/x-python",
   "name": "python",
   "nbconvert_exporter": "python",
   "pygments_lexer": "ipython2",
   "version": "2.7.6"
  }
 },
 "nbformat": 4,
 "nbformat_minor": 0
}
